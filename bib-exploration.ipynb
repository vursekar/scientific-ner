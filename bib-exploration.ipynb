{
 "cells": [
  {
   "cell_type": "code",
   "execution_count": 20,
   "id": "88291265",
   "metadata": {},
   "outputs": [],
   "source": [
    "import bibtexparser\n",
    "import pandas as pd\n",
    "\n",
    "# pick number of lines to read from bib file\n",
    "N = 500000\n",
    "\n",
    "with open('anthology.bib') as bibtex_file:\n",
    "    bibtex_str = [next(bibtex_file) for x in range(N)]\n",
    "\n",
    "bibtex_str = ''.join(bibtex_str)"
   ]
  },
  {
   "cell_type": "code",
   "execution_count": 21,
   "id": "a3ed3980",
   "metadata": {},
   "outputs": [],
   "source": [
    "bib_database = bibtexparser.loads(bibtex_str)\n",
    "df = pd.DataFrame.from_records(bib_database.entries)"
   ]
  },
  {
   "cell_type": "code",
   "execution_count": 48,
   "id": "a495c984",
   "metadata": {},
   "outputs": [],
   "source": [
    "df['link_to_pdf'] = df['url'].apply(lambda x: str(x) + '.pdf')\n",
    "df.to_csv('anthology.csv')"
   ]
  },
  {
   "cell_type": "code",
   "execution_count": 49,
   "id": "b63f71b9",
   "metadata": {},
   "outputs": [],
   "source": [
    "acl_df = df[df.publisher.isin(['Association for Computational Linguistics'])].reset_index(drop=1)"
   ]
  },
  {
   "cell_type": "code",
   "execution_count": null,
   "id": "12434217",
   "metadata": {},
   "outputs": [],
   "source": []
  }
 ],
 "metadata": {
  "kernelspec": {
   "display_name": "Python 3 (ipykernel)",
   "language": "python",
   "name": "python3"
  },
  "language_info": {
   "codemirror_mode": {
    "name": "ipython",
    "version": 3
   },
   "file_extension": ".py",
   "mimetype": "text/x-python",
   "name": "python",
   "nbconvert_exporter": "python",
   "pygments_lexer": "ipython3",
   "version": "3.9.12"
  }
 },
 "nbformat": 4,
 "nbformat_minor": 5
}
