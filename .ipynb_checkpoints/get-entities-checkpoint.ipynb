{
 "cells": [
  {
   "cell_type": "code",
   "execution_count": 29,
   "id": "59904d79",
   "metadata": {},
   "outputs": [],
   "source": [
    "import json\n",
    "import os\n",
    "\n",
    "named_entities = {}\n",
    "directory_path = '../scierc_data/'\n",
    "\n",
    "filenames = os.listdir(directory_path)\n",
    "\n",
    "for filename in filenames:\n",
    "    \n",
    "    if '.json' not in filename:\n",
    "        continue\n",
    "    \n",
    "    path = os.path.join(directory_path, filename)\n",
    "\n",
    "    with open(path) as f:\n",
    "        for jsonObj in f:\n",
    "            sample = json.loads(jsonObj)\n",
    "\n",
    "            paragraph = []\n",
    "\n",
    "            for sentence in sample['sentences']:\n",
    "                paragraph += sentence\n",
    "\n",
    "            for idx, spans in enumerate(sample['ner']):           \n",
    "                for span in spans:\n",
    "                    named_entities[span[2]] = named_entities.get(span[2], set())\n",
    "                    named_entities[span[2]].add(' '.join(paragraph[span[0]:span[1]+1]))"
   ]
  },
  {
   "cell_type": "code",
   "execution_count": 33,
   "id": "230b8f3f",
   "metadata": {},
   "outputs": [
    {
     "name": "stdout",
     "output_type": "stream",
     "text": [
      "Task 1074\n",
      "OtherScientificTerm 1881\n",
      "Material 644\n",
      "Generic 301\n",
      "Method 1761\n",
      "Metric 231\n"
     ]
    }
   ],
   "source": [
    "for key in named_entities:\n",
    "    print(key, len(named_entities[key]))"
   ]
  }
 ],
 "metadata": {
  "kernelspec": {
   "display_name": "Python 3 (ipykernel)",
   "language": "python",
   "name": "python3"
  },
  "language_info": {
   "codemirror_mode": {
    "name": "ipython",
    "version": 3
   },
   "file_extension": ".py",
   "mimetype": "text/x-python",
   "name": "python",
   "nbconvert_exporter": "python",
   "pygments_lexer": "ipython3",
   "version": "3.9.12"
  }
 },
 "nbformat": 4,
 "nbformat_minor": 5
}
