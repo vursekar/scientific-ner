{
 "cells": [
  {
   "cell_type": "code",
   "execution_count": 1,
   "id": "88291265",
   "metadata": {},
   "outputs": [],
   "source": [
    "import bibtexparser\n",
    "import pandas as pd\n",
    "import numpy as np"
   ]
  },
  {
   "cell_type": "code",
   "execution_count": null,
   "id": "cdabd9b8",
   "metadata": {},
   "outputs": [],
   "source": [
    "# pick number of lines to read from bib file\n",
    "N = 500000\n",
    "\n",
    "with open('anthology.bib') as bibtex_file:\n",
    "    bibtex_str = [next(bibtex_file) for x in range(N)]\n",
    "\n",
    "bibtex_str = ''.join(bibtex_str)\n",
    "bib_database = bibtexparser.loads(bibtex_str)\n",
    "df = pd.DataFrame.from_records(bib_database.entries)\n",
    "df['link_to_pdf'] = df['url'].apply(lambda x: str(x) + '.pdf')\n",
    "df.to_csv('anthology.csv')"
   ]
  },
  {
   "cell_type": "code",
   "execution_count": 2,
   "id": "a3ed3980",
   "metadata": {},
   "outputs": [
    {
     "name": "stderr",
     "output_type": "stream",
     "text": [
      "/var/folders/xf/tx_gpq5d2qd80j7x95kg52gm0000gn/T/ipykernel_54795/270592488.py:1: DtypeWarning: Columns (16,18) have mixed types. Specify dtype option on import or set low_memory=False.\n",
      "  acl_df = pd.read_csv('anthology.csv', index_col=0)\n"
     ]
    }
   ],
   "source": [
    "acl_df = pd.read_csv('anthology.csv', index_col=0)\n",
    "acl_df = acl_df[acl_df.publisher.isin(['Association for Computational Linguistics'])]"
   ]
  },
  {
   "cell_type": "code",
   "execution_count": 3,
   "id": "ef08f130",
   "metadata": {},
   "outputs": [],
   "source": [
    "import requests\n",
    "from pathlib import Path\n",
    "\n",
    "np.random.seed(0)\n",
    "idxs = np.random.choice(acl_df.shape[0], 50, replace=False)\n",
    "\n",
    "urls = acl_df.iloc[idxs]['link_to_pdf'].values"
   ]
  },
  {
   "cell_type": "code",
   "execution_count": 4,
   "id": "460cc336",
   "metadata": {},
   "outputs": [
    {
     "name": "stdout",
     "output_type": "stream",
     "text": [
      "2020.findings-emnlp.53.pdf\n",
      "2020.findings-emnlp.39.pdf\n",
      "W18-2610.pdf\n",
      "2021.bea-1.23.pdf\n",
      "2022.findings-acl.149.pdf\n",
      "D19-5546.pdf\n",
      "D19-1645.pdf\n",
      "2021.eacl-main.158.pdf\n",
      "P18-2023.pdf\n",
      "2022.fever-1.4.pdf\n",
      "W18-5606.pdf\n",
      "2021.inlg-1.43.pdf\n",
      "2021.calcs-1.9.pdf\n",
      "2022.acl-long.231.pdf\n",
      "P19-1162.pdf\n",
      "2020.cmcl-1.4.pdf\n",
      "N19-1076.pdf\n",
      "W17-5521.pdf\n",
      "2021.iwslt-1.30.pdf\n",
      "2020.wmt-1.46.pdf\n",
      "K18-1054.pdf\n",
      "P19-1372.pdf\n",
      "D19-1021.pdf\n",
      "2022.naacl-main.429.pdf\n",
      "2020.acl-main.45.pdf\n",
      "W16-3631.pdf\n",
      "2020.findings-emnlp.178.pdf\n",
      "2021.acl-long.252.pdf\n",
      "2021.nlp4convai-1.4.pdf\n",
      "P19-1631.pdf\n",
      "W17-7001.pdf\n",
      "2021.bea-1.14.pdf\n",
      "P19-1414.pdf\n",
      "2022.findings-acl.214.pdf\n",
      "P19-2018.pdf\n",
      "2022.woah-1.16.pdf\n",
      "W18-5501.pdf\n",
      "2021.naacl-main.271.pdf\n",
      "2021.naacl-main.305.pdf\n",
      "D18-1242.pdf\n",
      "E17-2095.pdf\n",
      "2021.findings-emnlp.165.pdf\n",
      "2020.emnlp-main.65.pdf\n",
      "2020.ecnlp-1.5.pdf\n",
      "K17-3011.pdf\n",
      "2022.naacl-main.379.pdf\n",
      "2021.dravidianlangtech-1.29.pdf\n",
      "S16-1090.pdf\n",
      "D17-2005.pdf\n",
      "W16-5504.pdf\n"
     ]
    }
   ],
   "source": [
    "for url in urls:\n",
    "    filename = url.split('/')[-1]\n",
    "    print(filename)\n",
    "    filepath = Path('scraped_pdfs/{}'.format(filename))\n",
    "    response = requests.get(url)\n",
    "    filepath.write_bytes(response.content)"
   ]
  },
  {
   "cell_type": "code",
   "execution_count": null,
   "id": "6c168864",
   "metadata": {},
   "outputs": [],
   "source": []
  }
 ],
 "metadata": {
  "kernelspec": {
   "display_name": "Python 3 (ipykernel)",
   "language": "python",
   "name": "python3"
  },
  "language_info": {
   "codemirror_mode": {
    "name": "ipython",
    "version": 3
   },
   "file_extension": ".py",
   "mimetype": "text/x-python",
   "name": "python",
   "nbconvert_exporter": "python",
   "pygments_lexer": "ipython3",
   "version": "3.9.12"
  }
 },
 "nbformat": 4,
 "nbformat_minor": 5
}
