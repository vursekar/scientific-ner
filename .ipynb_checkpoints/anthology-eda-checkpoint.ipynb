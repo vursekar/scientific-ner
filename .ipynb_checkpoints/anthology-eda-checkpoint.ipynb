{
 "cells": [
  {
   "cell_type": "code",
   "execution_count": 1,
   "id": "88291265",
   "metadata": {},
   "outputs": [],
   "source": [
    "import bibtexparser\n",
    "import pandas as pd\n",
    "import numpy as np"
   ]
  },
  {
   "cell_type": "code",
   "execution_count": 2,
   "id": "a3ed3980",
   "metadata": {},
   "outputs": [
    {
     "name": "stderr",
     "output_type": "stream",
     "text": [
      "/var/folders/xf/tx_gpq5d2qd80j7x95kg52gm0000gn/T/ipykernel_54795/270592488.py:1: DtypeWarning: Columns (16,18) have mixed types. Specify dtype option on import or set low_memory=False.\n",
      "  acl_df = pd.read_csv('anthology.csv', index_col=0)\n"
     ]
    }
   ],
   "source": [
    "acl_df = pd.read_csv('../anthology.csv', index_col=0)\n",
    "acl_df = acl_df[acl_df.publisher.isin(['Association for Computational Linguistics'])]"
   ]
  },
  {
   "cell_type": "code",
   "execution_count": null,
   "id": "6c168864",
   "metadata": {},
   "outputs": [],
   "source": []
  }
 ],
 "metadata": {
  "kernelspec": {
   "display_name": "Python 3 (ipykernel)",
   "language": "python",
   "name": "python3"
  },
  "language_info": {
   "codemirror_mode": {
    "name": "ipython",
    "version": 3
   },
   "file_extension": ".py",
   "mimetype": "text/x-python",
   "name": "python",
   "nbconvert_exporter": "python",
   "pygments_lexer": "ipython3",
   "version": "3.9.12"
  }
 },
 "nbformat": 4,
 "nbformat_minor": 5
}
