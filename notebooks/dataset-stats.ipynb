{
 "cells": [
  {
   "cell_type": "code",
   "execution_count": 3,
   "id": "415f0f65",
   "metadata": {},
   "outputs": [],
   "source": [
    "import json\n",
    "import os\n",
    "\n",
    "path_to_tagged = '../data/scipdf_tagged/train/'\n",
    "filenames = os.listdir(path_to_tagged)\n",
    "\n",
    "entity_type_cts = {}\n",
    "entity_type_mentions = {}\n",
    "\n",
    "value_samples = []\n",
    "\n",
    "for filename in filenames:\n",
    "    \n",
    "    if '.json' not in filename:\n",
    "        continue\n",
    "\n",
    "    with open(os.path.join(path_to_tagged, filename)) as f:\n",
    "        \n",
    "        for data in f:\n",
    "\n",
    "            sample = json.loads(data)\n",
    "                    \n",
    "            contains_hp_metric = False\n",
    "            contains_number = False\n",
    "            \n",
    "            for start, end, et, text in sample['entities']:\n",
    "                entity_type_cts[et] = entity_type_cts.get(et, 0) + 1\n",
    "                entity_type_mentions[et] = entity_type_mentions.get(et, set())\n",
    "                entity_type_mentions[et].add(text)\n",
    "                \n",
    "                if et in ['HyperparameterName', 'MetricName']:\n",
    "                    contains_hp_metric = True\n",
    "            \n",
    "            for token in sample['text'].split(\" \"):\n",
    "                \n",
    "                is_number = False\n",
    "                \n",
    "                try:\n",
    "                    float(token)\n",
    "                    is_number = True\n",
    "                except ValueError:\n",
    "                    pass\n",
    "                \n",
    "                if is_number:\n",
    "                    contains_number = True\n",
    "                    break\n",
    "            \n",
    "            if contains_hp_metric and contains_number:\n",
    "                value_samples.append(sample)"
   ]
  },
  {
   "cell_type": "code",
   "execution_count": 4,
   "id": "f47a3a92",
   "metadata": {},
   "outputs": [
    {
     "data": {
      "text/plain": [
       "{'MethodName': 5375,\n",
       " 'MetricName': 2484,\n",
       " 'DatasetName': 5507,\n",
       " 'TaskName': 4138,\n",
       " 'HyperparameterName': 1955}"
      ]
     },
     "execution_count": 4,
     "metadata": {},
     "output_type": "execute_result"
    }
   ],
   "source": [
    "entity_type_cts"
   ]
  },
  {
   "cell_type": "code",
   "execution_count": 5,
   "id": "69fdd45f",
   "metadata": {},
   "outputs": [
    {
     "name": "stdout",
     "output_type": "stream",
     "text": [
      "MethodName  : number of unique matches = 309\n",
      "MetricName  : number of unique matches = 77\n",
      "DatasetName  : number of unique matches = 404\n",
      "TaskName  : number of unique matches = 465\n",
      "HyperparameterName  : number of unique matches = 50\n"
     ]
    }
   ],
   "source": [
    "for key in entity_type_mentions:\n",
    "    print(key, \" : number of unique matches = {}\".format(len(entity_type_mentions[key])))"
   ]
  },
  {
   "cell_type": "code",
   "execution_count": null,
   "id": "f651a0e8",
   "metadata": {},
   "outputs": [],
   "source": []
  }
 ],
 "metadata": {
  "kernelspec": {
   "display_name": "Python 3 (ipykernel)",
   "language": "python",
   "name": "python3"
  },
  "language_info": {
   "codemirror_mode": {
    "name": "ipython",
    "version": 3
   },
   "file_extension": ".py",
   "mimetype": "text/x-python",
   "name": "python",
   "nbconvert_exporter": "python",
   "pygments_lexer": "ipython3",
   "version": "3.8.13"
  }
 },
 "nbformat": 4,
 "nbformat_minor": 5
}
