{
 "cells": [
  {
   "cell_type": "code",
   "execution_count": 1,
   "id": "60882782",
   "metadata": {},
   "outputs": [],
   "source": [
    "import os\n",
    "from PyPDF2 import PdfReader\n",
    "import spacy\n",
    "import re\n",
    "from pdfminer.high_level import extract_text\n",
    "import json"
   ]
  },
  {
   "cell_type": "code",
   "execution_count": null,
   "id": "67e77e0c",
   "metadata": {},
   "outputs": [],
   "source": [
    "pdfs_folder = '../parsed_pdfs/train/'\n",
    "filenames = os.listdir(pdfs_folder)\n",
    "nlp = spacy.load(\"en_core_web_sm\")"
   ]
  },
  {
   "cell_type": "code",
   "execution_count": 3,
   "id": "ceab7d81",
   "metadata": {},
   "outputs": [],
   "source": [
    "with open(os.path.join(pdfs_folder, filenames[104])) as f:\n",
    "    data = f.read()\n",
    "    data = json.loads(data)"
   ]
  }
 ],
 "metadata": {
  "kernelspec": {
   "display_name": "Python 3 (ipykernel)",
   "language": "python",
   "name": "python3"
  },
  "language_info": {
   "codemirror_mode": {
    "name": "ipython",
    "version": 3
   },
   "file_extension": ".py",
   "mimetype": "text/x-python",
   "name": "python",
   "nbconvert_exporter": "python",
   "pygments_lexer": "ipython3",
   "version": "3.8.13"
  }
 },
 "nbformat": 4,
 "nbformat_minor": 5
}
