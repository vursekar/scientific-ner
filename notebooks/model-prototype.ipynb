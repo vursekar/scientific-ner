{
 "cells": [
  {
   "cell_type": "code",
   "execution_count": null,
   "id": "81c19420",
   "metadata": {},
   "outputs": [],
   "source": [
    "from pathlib import Path\n",
    "import re\n",
    "\n",
    "def read_conll(file_path):\n",
    "    file_path = Path(file_path)\n",
    "\n",
    "    raw_text = file_path.read_text().strip()\n",
    "    \n",
    "    raw_docs = re.split(r'\\n\\t?\\n', raw_text)\n",
    "    token_docs = []\n",
    "    tag_docs = []\n",
    "    for doc in raw_docs:\n",
    "        \n",
    "        print(doc)\n",
    "                \n",
    "        tokens = []\n",
    "        tags = []\n",
    "        for line in doc.split('\\n'):\n",
    "            try:\n",
    "                token, _, _, tag = line.split(' ')\n",
    "            except ValueError:\n",
    "                token, _, tag = line.split(' ')\n",
    "                \n",
    "            tokens.append(token)\n",
    "            tags.append(tag)\n",
    "        token_docs.append(tokens)\n",
    "        tag_docs.append(tags)\n",
    "\n",
    "    return token_docs, tag_docs"
   ]
  },
  {
   "cell_type": "code",
   "execution_count": null,
   "id": "a8a40cf8",
   "metadata": {},
   "outputs": [],
   "source": [
    "from simpletransformers.ner import NERModel, NERArgs\n",
    "\n",
    "model_args = NERArgs()\n",
    "model_args.labels_list = [\"O\",\"MethodName\", \"HyperparameterName\", \"HyperparameterValue\",\n",
    "                          \"MetricName\", \"MetricValue\", \"TaskName\", \"DatasetName\"]\n",
    "\n",
    "model = NERModel(\n",
    "    \"bert\", \"allenai/scibert_scivocab_uncased\", use_cuda=False, args=model_args\n",
    ")"
   ]
  },
  {
   "cell_type": "code",
   "execution_count": null,
   "id": "5a5b4f6d",
   "metadata": {},
   "outputs": [],
   "source": [
    "train_data = \"../final_data/auto/train/metric_hp_plus_num_tag.conll\"\n",
    "eval_data = \"../final_data/auto/test/metric_hp_plus_num_tag.conll\""
   ]
  },
  {
   "cell_type": "code",
   "execution_count": null,
   "id": "7958f3e2",
   "metadata": {},
   "outputs": [],
   "source": [
    "model.train_model(train_data, eval_data=eval_data)"
   ]
  },
  {
   "cell_type": "code",
   "execution_count": null,
   "id": "607d8096",
   "metadata": {},
   "outputs": [],
   "source": []
  }
 ],
 "metadata": {
  "kernelspec": {
   "display_name": "Python 3 (ipykernel)",
   "language": "python",
   "name": "python3"
  },
  "language_info": {
   "codemirror_mode": {
    "name": "ipython",
    "version": 3
   },
   "file_extension": ".py",
   "mimetype": "text/x-python",
   "name": "python",
   "nbconvert_exporter": "python",
   "pygments_lexer": "ipython3",
   "version": "3.8.13"
  }
 },
 "nbformat": 4,
 "nbformat_minor": 5
}
