{
 "cells": [
  {
   "cell_type": "code",
   "execution_count": 1,
   "id": "f3912e21",
   "metadata": {},
   "outputs": [],
   "source": [
    "import json\n",
    "import os\n",
    "\n",
    "path_to_data = '../data/paperswithcode_corpus/'"
   ]
  },
  {
   "cell_type": "code",
   "execution_count": 2,
   "id": "bb4c775d",
   "metadata": {},
   "outputs": [],
   "source": [
    "methods_file = 'methods.json'\n",
    "\n",
    "with open(os.path.join(path_to_data, methods_file)) as f:\n",
    "    methods_data = f.read()\n",
    "\n",
    "methods_data = json.loads(methods_data)\n",
    "methods = dict()\n",
    "\n",
    "for entry in methods_data:\n",
    "    \n",
    "    methods[entry['name']] = methods.get(entry['name'], 0) + 1\n",
    "    methods[entry['full_name']] = methods.get(entry['full_name'], 0) + 1"
   ]
  },
  {
   "cell_type": "code",
   "execution_count": 4,
   "id": "6a8da66b",
   "metadata": {},
   "outputs": [],
   "source": [
    "dataset_file = 'datasets.json'\n",
    "\n",
    "with open(os.path.join(path_to_data, dataset_file)) as f:\n",
    "    dataset_data = f.read()\n",
    "    \n",
    "dataset_data = json.loads(dataset_data)\n",
    "\n",
    "datasets = dict()\n",
    "tasks = dict()\n",
    "\n",
    "for entry in dataset_data:\n",
    "    \n",
    "    datasets[(entry['name'])] = datasets.get(entry['name'], 0) + 1\n",
    "    \n",
    "    for variant in entry['variants']:\n",
    "        datasets[variant] = datasets.get(variant, 0) + 1\n",
    "    \n",
    "    for subentry in entry['tasks']:\n",
    "        tasks[(subentry['task'])] = tasks.get(subentry['task'], 0) + 1 "
   ]
  },
  {
   "cell_type": "code",
   "execution_count": 6,
   "id": "f32caadd",
   "metadata": {},
   "outputs": [],
   "source": [
    "eval_file = 'evaluation-tables.json'\n",
    "\n",
    "with open(os.path.join(path_to_data, eval_file)) as f:\n",
    "    eval_data = f.read()\n",
    "\n",
    "eval_data = json.loads(eval_data)\n",
    "\n",
    "metrics = dict()\n",
    "\n",
    "for entry in eval_data:\n",
    "    \n",
    "    tasks[entry['task']] = tasks.get(entry['task'], 0) + 1\n",
    "    \n",
    "    for subentry in entry['datasets']:\n",
    "        for metric in subentry['sota']['metrics']:\n",
    "            metrics[metric] = metrics.get(metric,0) + 1\n",
    "            \n",
    "    \n",
    "    for subentry in entry['subtasks']:\n",
    "        tasks[subentry['task']] = tasks.get(subentry['task'], 0) + 1"
   ]
  },
  {
   "cell_type": "code",
   "execution_count": 16,
   "id": "e29a0abc",
   "metadata": {},
   "outputs": [],
   "source": [
    "banned_words = [None, ' ', '.']\n",
    "\n",
    "for d in [tasks, datasets, methods, metrics]:\n",
    "    for banned_word in banned_words:\n",
    "        if banned_word in d:\n",
    "            d.pop(banned_word)"
   ]
  },
  {
   "cell_type": "code",
   "execution_count": 22,
   "id": "857b8ae6",
   "metadata": {},
   "outputs": [],
   "source": [
    "entities = {'MethodName' : list(methods),\n",
    "            'DatasetName' : list(datasets), \n",
    "            'MetricName' : [metric for metric in metrics if metrics[metric]>10],\n",
    "            'TaskName' : [task for task in tasks if tasks[task]>1]}\n",
    "\n",
    "with open('../entity_corpus/pwc_entities.json', 'w') as f:\n",
    "    json.dump(entities, f)"
   ]
  },
  {
   "cell_type": "code",
   "execution_count": null,
   "id": "872870ec",
   "metadata": {},
   "outputs": [],
   "source": [
    "print(tasks.intersection(datasets))\n",
    "print(tasks.intersection(methods))\n",
    "print(tasks.intersection(metrics))\n",
    "print(datasets.intersection(methods))\n",
    "print(datasets.intersection(metrics))\n",
    "print(methods.intersection(metrics))"
   ]
  },
  {
   "cell_type": "code",
   "execution_count": null,
   "id": "05ac96b5",
   "metadata": {},
   "outputs": [],
   "source": []
  }
 ],
 "metadata": {
  "kernelspec": {
   "display_name": "Python 3 (ipykernel)",
   "language": "python",
   "name": "python3"
  },
  "language_info": {
   "codemirror_mode": {
    "name": "ipython",
    "version": 3
   },
   "file_extension": ".py",
   "mimetype": "text/x-python",
   "name": "python",
   "nbconvert_exporter": "python",
   "pygments_lexer": "ipython3",
   "version": "3.8.13"
  }
 },
 "nbformat": 4,
 "nbformat_minor": 5
}
